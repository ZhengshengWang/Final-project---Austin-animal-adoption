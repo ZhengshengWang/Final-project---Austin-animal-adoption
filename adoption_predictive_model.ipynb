{
 "cells": [
  {
   "cell_type": "code",
   "execution_count": 1,
   "metadata": {},
   "outputs": [
    {
     "data": {
      "text/html": [
       "<div>\n",
       "<style scoped>\n",
       "    .dataframe tbody tr th:only-of-type {\n",
       "        vertical-align: middle;\n",
       "    }\n",
       "\n",
       "    .dataframe tbody tr th {\n",
       "        vertical-align: top;\n",
       "    }\n",
       "\n",
       "    .dataframe thead th {\n",
       "        text-align: right;\n",
       "    }\n",
       "</style>\n",
       "<table border=\"1\" class=\"dataframe\">\n",
       "  <thead>\n",
       "    <tr style=\"text-align: right;\">\n",
       "      <th></th>\n",
       "      <th>Animal Type</th>\n",
       "      <th>Sex upon Outcome</th>\n",
       "      <th>Simplified Outcome</th>\n",
       "      <th>Age in Days</th>\n",
       "    </tr>\n",
       "  </thead>\n",
       "  <tbody>\n",
       "    <tr>\n",
       "      <th>0</th>\n",
       "      <td>Cat</td>\n",
       "      <td>Neutered Male</td>\n",
       "      <td>Adopted</td>\n",
       "      <td>90</td>\n",
       "    </tr>\n",
       "    <tr>\n",
       "      <th>1</th>\n",
       "      <td>Cat</td>\n",
       "      <td>Neutered Male</td>\n",
       "      <td>Adopted</td>\n",
       "      <td>730</td>\n",
       "    </tr>\n",
       "    <tr>\n",
       "      <th>2</th>\n",
       "      <td>Dog</td>\n",
       "      <td>Neutered Male</td>\n",
       "      <td>Adopted</td>\n",
       "      <td>365</td>\n",
       "    </tr>\n",
       "    <tr>\n",
       "      <th>3</th>\n",
       "      <td>Other</td>\n",
       "      <td>Unknown</td>\n",
       "      <td>Not Adopted</td>\n",
       "      <td>365</td>\n",
       "    </tr>\n",
       "    <tr>\n",
       "      <th>4</th>\n",
       "      <td>Dog</td>\n",
       "      <td>Neutered Male</td>\n",
       "      <td>Adopted</td>\n",
       "      <td>120</td>\n",
       "    </tr>\n",
       "  </tbody>\n",
       "</table>\n",
       "</div>"
      ],
      "text/plain": [
       "  Animal Type Sex upon Outcome Simplified Outcome  Age in Days\n",
       "0         Cat    Neutered Male            Adopted           90\n",
       "1         Cat    Neutered Male            Adopted          730\n",
       "2         Dog    Neutered Male            Adopted          365\n",
       "3       Other          Unknown        Not Adopted          365\n",
       "4         Dog    Neutered Male            Adopted          120"
      ]
     },
     "execution_count": 1,
     "metadata": {},
     "output_type": "execute_result"
    }
   ],
   "source": [
    " # Initial imports\n",
    "import pandas as pd\n",
    "from pathlib import Path\n",
    "from sklearn.ensemble import RandomForestClassifier\n",
    "from sklearn.preprocessing import StandardScaler\n",
    "from sklearn.model_selection import train_test_split\n",
    "from sklearn.metrics import confusion_matrix, accuracy_score, classification_report\n",
    "%matplotlib inline\n",
    "\n",
    "#load in csv and drop unused columns\n",
    "file_path_updated = 'Austin_Animal_Center_Outcomes_Cleaned.csv'\n",
    "data = pd.read_csv(file_path_updated)\n",
    "data = data.drop(columns=['Animal ID', 'Name', 'Outcome Type', 'Outcome Subtype', 'DateTime', 'MonthYear', 'Date of Birth', 'Breed', 'Color', 'Age upon Outcome'])\n",
    "data.head()"
   ]
  },
  {
   "cell_type": "code",
   "execution_count": 2,
   "metadata": {},
   "outputs": [
    {
     "data": {
      "text/html": [
       "<div>\n",
       "<style scoped>\n",
       "    .dataframe tbody tr th:only-of-type {\n",
       "        vertical-align: middle;\n",
       "    }\n",
       "\n",
       "    .dataframe tbody tr th {\n",
       "        vertical-align: top;\n",
       "    }\n",
       "\n",
       "    .dataframe thead th {\n",
       "        text-align: right;\n",
       "    }\n",
       "</style>\n",
       "<table border=\"1\" class=\"dataframe\">\n",
       "  <thead>\n",
       "    <tr style=\"text-align: right;\">\n",
       "      <th></th>\n",
       "      <th>Sex upon Outcome</th>\n",
       "      <th>Simplified Outcome</th>\n",
       "      <th>Age in Days</th>\n",
       "      <th>Cat</th>\n",
       "      <th>Dog</th>\n",
       "      <th>Bird</th>\n",
       "      <th>Livestock</th>\n",
       "      <th>Other Animal Type</th>\n",
       "    </tr>\n",
       "  </thead>\n",
       "  <tbody>\n",
       "    <tr>\n",
       "      <th>0</th>\n",
       "      <td>Neutered Male</td>\n",
       "      <td>Adopted</td>\n",
       "      <td>90</td>\n",
       "      <td>1</td>\n",
       "      <td>0</td>\n",
       "      <td>0</td>\n",
       "      <td>0</td>\n",
       "      <td>0</td>\n",
       "    </tr>\n",
       "    <tr>\n",
       "      <th>1</th>\n",
       "      <td>Neutered Male</td>\n",
       "      <td>Adopted</td>\n",
       "      <td>730</td>\n",
       "      <td>1</td>\n",
       "      <td>0</td>\n",
       "      <td>0</td>\n",
       "      <td>0</td>\n",
       "      <td>0</td>\n",
       "    </tr>\n",
       "    <tr>\n",
       "      <th>2</th>\n",
       "      <td>Neutered Male</td>\n",
       "      <td>Adopted</td>\n",
       "      <td>365</td>\n",
       "      <td>0</td>\n",
       "      <td>1</td>\n",
       "      <td>0</td>\n",
       "      <td>0</td>\n",
       "      <td>0</td>\n",
       "    </tr>\n",
       "    <tr>\n",
       "      <th>3</th>\n",
       "      <td>Unknown</td>\n",
       "      <td>Not Adopted</td>\n",
       "      <td>365</td>\n",
       "      <td>0</td>\n",
       "      <td>0</td>\n",
       "      <td>0</td>\n",
       "      <td>0</td>\n",
       "      <td>1</td>\n",
       "    </tr>\n",
       "    <tr>\n",
       "      <th>4</th>\n",
       "      <td>Neutered Male</td>\n",
       "      <td>Adopted</td>\n",
       "      <td>120</td>\n",
       "      <td>0</td>\n",
       "      <td>1</td>\n",
       "      <td>0</td>\n",
       "      <td>0</td>\n",
       "      <td>0</td>\n",
       "    </tr>\n",
       "  </tbody>\n",
       "</table>\n",
       "</div>"
      ],
      "text/plain": [
       "  Sex upon Outcome Simplified Outcome  Age in Days  Cat  Dog  Bird  Livestock  \\\n",
       "0    Neutered Male            Adopted           90    1    0     0          0   \n",
       "1    Neutered Male            Adopted          730    1    0     0          0   \n",
       "2    Neutered Male            Adopted          365    0    1     0          0   \n",
       "3          Unknown        Not Adopted          365    0    0     0          0   \n",
       "4    Neutered Male            Adopted          120    0    1     0          0   \n",
       "\n",
       "   Other Animal Type  \n",
       "0                  0  \n",
       "1                  0  \n",
       "2                  0  \n",
       "3                  1  \n",
       "4                  0  "
      ]
     },
     "execution_count": 2,
     "metadata": {},
     "output_type": "execute_result"
    }
   ],
   "source": [
    "\n",
    "# Grouping fixed animals together and unfixed animals together\n",
    "cat_mapping = {\n",
    "    'Dog': 0,\n",
    "    'Cat': 1,\n",
    "    'Bird': 0,\n",
    "    'Livestock': 0,\n",
    "    'Other': 0,\n",
    "}\n",
    "data['Cat'] = data['Animal Type'].map(cat_mapping)\n",
    "\n",
    "# Grouping females together\n",
    "dog_mapping = {\n",
    "    'Dog': 1,\n",
    "    'Cat': 0,\n",
    "    'Bird': 0,\n",
    "    'Livestock': 0,\n",
    "    'Other': 0,\n",
    "}\n",
    "data['Dog'] = data['Animal Type'].map(dog_mapping)\n",
    "\n",
    "# Grouping males together\n",
    "bird_mapping = {\n",
    "    'Dog': 0,\n",
    "    'Cat': 0,\n",
    "    'Bird': 1,\n",
    "    'Livestock': 0,\n",
    "    'Other': 0,\n",
    "}\n",
    "data['Bird'] = data['Animal Type'].map(bird_mapping)\n",
    "\n",
    "Livestock_mapping = {\n",
    "    'Dog': 0,\n",
    "    'Cat': 0,\n",
    "    'Bird': 0,\n",
    "    'Livestock': 1,\n",
    "    'Other': 0,\n",
    "}\n",
    "data['Livestock'] = data['Animal Type'].map(Livestock_mapping)\n",
    "\n",
    "other_mapping = {\n",
    "    'Dog': 0,\n",
    "    'Cat': 0,\n",
    "    'Bird': 0,\n",
    "    'Livestock': 0,\n",
    "    'Other': 1,\n",
    "}\n",
    "data['Other Animal Type'] = data['Animal Type'].map(other_mapping)\n",
    "\n",
    "data = data.drop(columns=['Animal Type'])\n",
    "\n",
    "data.head()"
   ]
  },
  {
   "cell_type": "code",
   "execution_count": 3,
   "metadata": {},
   "outputs": [
    {
     "data": {
      "text/plain": [
       "Sex upon Outcome\n",
       "Neutered Male    59320\n",
       "Spayed Female    53755\n",
       "Intact Male      21781\n",
       "Intact Female    21326\n",
       "Unknown          13119\n",
       "Name: count, dtype: int64"
      ]
     },
     "execution_count": 3,
     "metadata": {},
     "output_type": "execute_result"
    }
   ],
   "source": [
    "sex_counts = data['Sex upon Outcome'].value_counts()\n",
    "sex_counts"
   ]
  },
  {
   "cell_type": "code",
   "execution_count": 4,
   "metadata": {},
   "outputs": [],
   "source": [
    "# Drop rows with 'Unknown' or other unspecified values in 'Sex upon Outcome'\n",
    "data = data[~data['Sex upon Outcome'].str.contains('Unknown', na=False)]\n",
    "# Grouping fixed animals together and unfixed animals together\n",
    "fixed_mapping = {\n",
    "    'Intact Male': 0,\n",
    "    'Neutered Male': 1,\n",
    "    'Intact Female': 0,\n",
    "    'Spayed Female': 1,\n",
    "}\n",
    "data['Neutered/Spayed'] = data['Sex upon Outcome'].map(fixed_mapping)\n",
    "\n",
    "# Grouping females together\n",
    "sex1_mapping = {\n",
    "    'Intact Male': 0,\n",
    "    'Neutered Male': 0,\n",
    "    'Intact Female': 1,\n",
    "    'Spayed Female': 1,\n",
    "}\n",
    "data['Female'] = data['Sex upon Outcome'].map(sex1_mapping)\n",
    "\n",
    "# Grouping males together\n",
    "sex2_mapping = {\n",
    "    \n",
    "    'Intact Male': 1,\n",
    "    'Neutered Male': 1,\n",
    "    'Intact Female': 0,\n",
    "    'Spayed Female': 0,\n",
    "}\n",
    "data['Male'] = data['Sex upon Outcome'].map(sex2_mapping)\n",
    "data = data.drop(columns=['Sex upon Outcome'])\n"
   ]
  },
  {
   "cell_type": "code",
   "execution_count": 5,
   "metadata": {},
   "outputs": [
    {
     "data": {
      "text/html": [
       "<div>\n",
       "<style scoped>\n",
       "    .dataframe tbody tr th:only-of-type {\n",
       "        vertical-align: middle;\n",
       "    }\n",
       "\n",
       "    .dataframe tbody tr th {\n",
       "        vertical-align: top;\n",
       "    }\n",
       "\n",
       "    .dataframe thead th {\n",
       "        text-align: right;\n",
       "    }\n",
       "</style>\n",
       "<table border=\"1\" class=\"dataframe\">\n",
       "  <thead>\n",
       "    <tr style=\"text-align: right;\">\n",
       "      <th></th>\n",
       "      <th>Simplified Outcome</th>\n",
       "      <th>Age in Days</th>\n",
       "      <th>Cat</th>\n",
       "      <th>Dog</th>\n",
       "      <th>Bird</th>\n",
       "      <th>Livestock</th>\n",
       "      <th>Other Animal Type</th>\n",
       "      <th>Neutered/Spayed</th>\n",
       "      <th>Female</th>\n",
       "      <th>Male</th>\n",
       "    </tr>\n",
       "  </thead>\n",
       "  <tbody>\n",
       "    <tr>\n",
       "      <th>0</th>\n",
       "      <td>Adopted</td>\n",
       "      <td>90</td>\n",
       "      <td>1</td>\n",
       "      <td>0</td>\n",
       "      <td>0</td>\n",
       "      <td>0</td>\n",
       "      <td>0</td>\n",
       "      <td>1</td>\n",
       "      <td>0</td>\n",
       "      <td>1</td>\n",
       "    </tr>\n",
       "    <tr>\n",
       "      <th>1</th>\n",
       "      <td>Adopted</td>\n",
       "      <td>730</td>\n",
       "      <td>1</td>\n",
       "      <td>0</td>\n",
       "      <td>0</td>\n",
       "      <td>0</td>\n",
       "      <td>0</td>\n",
       "      <td>1</td>\n",
       "      <td>0</td>\n",
       "      <td>1</td>\n",
       "    </tr>\n",
       "    <tr>\n",
       "      <th>2</th>\n",
       "      <td>Adopted</td>\n",
       "      <td>365</td>\n",
       "      <td>0</td>\n",
       "      <td>1</td>\n",
       "      <td>0</td>\n",
       "      <td>0</td>\n",
       "      <td>0</td>\n",
       "      <td>1</td>\n",
       "      <td>0</td>\n",
       "      <td>1</td>\n",
       "    </tr>\n",
       "    <tr>\n",
       "      <th>4</th>\n",
       "      <td>Adopted</td>\n",
       "      <td>120</td>\n",
       "      <td>0</td>\n",
       "      <td>1</td>\n",
       "      <td>0</td>\n",
       "      <td>0</td>\n",
       "      <td>0</td>\n",
       "      <td>1</td>\n",
       "      <td>0</td>\n",
       "      <td>1</td>\n",
       "    </tr>\n",
       "    <tr>\n",
       "      <th>5</th>\n",
       "      <td>Not Adopted</td>\n",
       "      <td>6</td>\n",
       "      <td>1</td>\n",
       "      <td>0</td>\n",
       "      <td>0</td>\n",
       "      <td>0</td>\n",
       "      <td>0</td>\n",
       "      <td>0</td>\n",
       "      <td>0</td>\n",
       "      <td>1</td>\n",
       "    </tr>\n",
       "  </tbody>\n",
       "</table>\n",
       "</div>"
      ],
      "text/plain": [
       "  Simplified Outcome  Age in Days  Cat  Dog  Bird  Livestock  \\\n",
       "0            Adopted           90    1    0     0          0   \n",
       "1            Adopted          730    1    0     0          0   \n",
       "2            Adopted          365    0    1     0          0   \n",
       "4            Adopted          120    0    1     0          0   \n",
       "5        Not Adopted            6    1    0     0          0   \n",
       "\n",
       "   Other Animal Type  Neutered/Spayed  Female  Male  \n",
       "0                  0                1       0     1  \n",
       "1                  0                1       0     1  \n",
       "2                  0                1       0     1  \n",
       "4                  0                1       0     1  \n",
       "5                  0                0       0     1  "
      ]
     },
     "execution_count": 5,
     "metadata": {},
     "output_type": "execute_result"
    }
   ],
   "source": [
    "\n",
    "data.head()"
   ]
  },
  {
   "cell_type": "code",
   "execution_count": 6,
   "metadata": {},
   "outputs": [],
   "source": [
    "# Separate the features from the target.\n",
    "y = data[\"Simplified Outcome\"]\n",
    "X = data.drop(columns=\"Simplified Outcome\")"
   ]
  },
  {
   "cell_type": "code",
   "execution_count": 7,
   "metadata": {},
   "outputs": [
    {
     "data": {
      "text/plain": [
       "0        Adopted\n",
       "1        Adopted\n",
       "2        Adopted\n",
       "4        Adopted\n",
       "5    Not Adopted\n",
       "Name: Simplified Outcome, dtype: object"
      ]
     },
     "execution_count": 7,
     "metadata": {},
     "output_type": "execute_result"
    }
   ],
   "source": [
    "# Preview the first five entries for the target variable\n",
    "y[:5]"
   ]
  },
  {
   "cell_type": "code",
   "execution_count": 8,
   "metadata": {},
   "outputs": [],
   "source": [
    " # Splitting into Train and Test sets\n",
    "X_train, X_test, y_train, y_test = train_test_split(X, y, test_size=0.2, random_state=42)"
   ]
  },
  {
   "cell_type": "code",
   "execution_count": 9,
   "metadata": {},
   "outputs": [],
   "source": [
    " # Create a random forest classifier\n",
    "rf_model = RandomForestClassifier(n_estimators=500, random_state=78)"
   ]
  },
  {
   "cell_type": "code",
   "execution_count": 10,
   "metadata": {},
   "outputs": [],
   "source": [
    " # Fitting the model\n",
    "rf_model = rf_model.fit(X_train, y_train)"
   ]
  },
  {
   "cell_type": "code",
   "execution_count": 11,
   "metadata": {},
   "outputs": [],
   "source": [
    "# Making predictions using the testing data\n",
    "predictions = rf_model.predict(X_test)"
   ]
  },
  {
   "cell_type": "code",
   "execution_count": 12,
   "metadata": {},
   "outputs": [],
   "source": [
    "# Calculating the confusion matrix\n",
    "cm = confusion_matrix(y_test, predictions)\n",
    "cm_df = pd.DataFrame(\n",
    "    cm, index=[\"Actually Not Adopted\", \"Actually Adopted\"], columns=[\"Predicted Not Adopted\", \"Predicted Adopted\"]\n",
    ")\n",
    "\n",
    "# Calculating the accuracy score\n",
    "acc_score = accuracy_score(y_test, predictions)"
   ]
  },
  {
   "cell_type": "code",
   "execution_count": 13,
   "metadata": {},
   "outputs": [
    {
     "name": "stdout",
     "output_type": "stream",
     "text": [
      "Confusion Matrix\n"
     ]
    },
    {
     "data": {
      "text/html": [
       "<div>\n",
       "<style scoped>\n",
       "    .dataframe tbody tr th:only-of-type {\n",
       "        vertical-align: middle;\n",
       "    }\n",
       "\n",
       "    .dataframe tbody tr th {\n",
       "        vertical-align: top;\n",
       "    }\n",
       "\n",
       "    .dataframe thead th {\n",
       "        text-align: right;\n",
       "    }\n",
       "</style>\n",
       "<table border=\"1\" class=\"dataframe\">\n",
       "  <thead>\n",
       "    <tr style=\"text-align: right;\">\n",
       "      <th></th>\n",
       "      <th>Predicted Not Adopted</th>\n",
       "      <th>Predicted Adopted</th>\n",
       "    </tr>\n",
       "  </thead>\n",
       "  <tbody>\n",
       "    <tr>\n",
       "      <th>Actually Not Adopted</th>\n",
       "      <td>20097</td>\n",
       "      <td>1407</td>\n",
       "    </tr>\n",
       "    <tr>\n",
       "      <th>Actually Adopted</th>\n",
       "      <td>4091</td>\n",
       "      <td>5642</td>\n",
       "    </tr>\n",
       "  </tbody>\n",
       "</table>\n",
       "</div>"
      ],
      "text/plain": [
       "                      Predicted Not Adopted  Predicted Adopted\n",
       "Actually Not Adopted                  20097               1407\n",
       "Actually Adopted                       4091               5642"
      ]
     },
     "metadata": {},
     "output_type": "display_data"
    },
    {
     "name": "stdout",
     "output_type": "stream",
     "text": [
      "Accuracy Score : 0.8239907801645484\n",
      "Classification Report\n",
      "              precision    recall  f1-score   support\n",
      "\n",
      "     Adopted       0.83      0.93      0.88     21504\n",
      " Not Adopted       0.80      0.58      0.67      9733\n",
      "\n",
      "    accuracy                           0.82     31237\n",
      "   macro avg       0.82      0.76      0.78     31237\n",
      "weighted avg       0.82      0.82      0.82     31237\n",
      "\n"
     ]
    }
   ],
   "source": [
    "# Displaying results\n",
    "print(\"Confusion Matrix\")\n",
    "display(cm_df)\n",
    "print(f\"Accuracy Score : {acc_score}\")\n",
    "print(\"Classification Report\")\n",
    "print(classification_report(y_test, predictions))"
   ]
  },
  {
   "cell_type": "code",
   "execution_count": 14,
   "metadata": {},
   "outputs": [
    {
     "data": {
      "text/plain": [
       "[(0.6652404106162945, 'Neutered/Spayed'),\n",
       " (0.2529348965127733, 'Age in Days'),\n",
       " (0.039717587099425924, 'Cat'),\n",
       " (0.03474832938828923, 'Dog'),\n",
       " (0.0023476611195913976, 'Female'),\n",
       " (0.0022678747234860888, 'Other Animal Type'),\n",
       " (0.0016446557770581028, 'Male'),\n",
       " (0.0009427399612129086, 'Bird'),\n",
       " (0.00015584480186863124, 'Livestock')]"
      ]
     },
     "execution_count": 14,
     "metadata": {},
     "output_type": "execute_result"
    }
   ],
   "source": [
    " # Random Forests in sklearn will automatically calculate feature importance\n",
    "importances = rf_model.feature_importances_\n",
    "# We can sort the features by their importance\n",
    "sorted(zip(rf_model.feature_importances_, X.columns), reverse=True)"
   ]
  },
  {
   "cell_type": "code",
   "execution_count": 18,
   "metadata": {},
   "outputs": [
    {
     "data": {
      "text/plain": [
       "<Axes: title={'center': 'Features Importances'}, ylabel='1'>"
      ]
     },
     "execution_count": 18,
     "metadata": {},
     "output_type": "execute_result"
    },
    {
     "data": {
      "image/png": "[encoded data removed]",
      "text/plain": [
       "<Figure size 640x480 with 1 Axes>"
      ]
     },
     "metadata": {},
     "output_type": "display_data"
    }
   ],
   "source": [
    " # Visualize the features by importance\n",
    "importances_df = pd.DataFrame(sorted(zip(rf_model.feature_importances_, X.columns), reverse=True))\n",
    "importances_df.set_index(importances_df[1], inplace=True)\n",
    "importances_df.drop(columns=1, inplace=True)\n",
    "importances_df.rename(columns={0: 'Feature Importances'}, inplace=True)\n",
    "importances_sorted = importances_df.sort_values(by='Feature Importances')\n",
    "importances_sorted.plot(kind='barh', color='DarkOliveGreen', title= 'Features Importances', legend=False)"
   ]
  }
 ],
 "metadata": {
  "kernelspec": {
   "display_name": "dev",
   "language": "python",
   "name": "python3"
  },
  "language_info": {
   "codemirror_mode": {
    "name": "ipython",
    "version": 3
   },
   "file_extension": ".py",
   "mimetype": "text/x-python",
   "name": "python",
   "nbconvert_exporter": "python",
   "pygments_lexer": "ipython3",
   "version": "3.10.14"
  }
 },
 "nbformat": 4,
 "nbformat_minor": 2
}
