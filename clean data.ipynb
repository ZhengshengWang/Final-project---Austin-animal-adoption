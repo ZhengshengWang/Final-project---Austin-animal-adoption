{
 "cells": [
  {
   "cell_type": "code",
   "execution_count": 66,
   "metadata": {},
   "outputs": [],
   "source": [
    "import pandas as pd\n",
    "import numpy as np"
   ]
  },
  {
   "cell_type": "code",
   "execution_count": 47,
   "metadata": {},
   "outputs": [],
   "source": [
    "# Load the CSV file\n",
    "file_path = 'Austin_Animal_Center_Outcomes_20241205.csv'\n",
    "data = pd.read_csv(file_path)"
   ]
  },
  {
   "cell_type": "code",
   "execution_count": 48,
   "metadata": {},
   "outputs": [
    {
     "name": "stdout",
     "output_type": "stream",
     "text": [
      "Data types of each column:\n",
      "Animal ID           object\n",
      "Name                object\n",
      "DateTime            object\n",
      "MonthYear           object\n",
      "Date of Birth       object\n",
      "Outcome Type        object\n",
      "Outcome Subtype     object\n",
      "Animal Type         object\n",
      "Sex upon Outcome    object\n",
      "Age upon Outcome    object\n",
      "Breed               object\n",
      "Color               object\n",
      "dtype: object\n"
     ]
    }
   ],
   "source": [
    "# Display data types of each column\n",
    "data_types = data.dtypes\n",
    "print(\"Data types of each column:\")\n",
    "print(data_types)"
   ]
  },
  {
   "cell_type": "code",
   "execution_count": 49,
   "metadata": {},
   "outputs": [
    {
     "name": "stdout",
     "output_type": "stream",
     "text": [
      "\n",
      "Count of missing entries for each column:\n",
      "Animal ID               0\n",
      "Name                48588\n",
      "DateTime                0\n",
      "MonthYear               0\n",
      "Date of Birth           0\n",
      "Outcome Type           45\n",
      "Outcome Subtype     91639\n",
      "Animal Type             0\n",
      "Sex upon Outcome        3\n",
      "Age upon Outcome        7\n",
      "Breed                   0\n",
      "Color                   0\n",
      "dtype: int64\n"
     ]
    }
   ],
   "source": [
    "# Count missing entries for each column\n",
    "missing_entries = data.isnull().sum()\n",
    "print(\"\\nCount of missing entries for each column:\")\n",
    "print(missing_entries)\n"
   ]
  },
  {
   "cell_type": "code",
   "execution_count": 50,
   "metadata": {},
   "outputs": [
    {
     "name": "stdout",
     "output_type": "stream",
     "text": [
      "Animal ID               0\n",
      "Name                48566\n",
      "DateTime                0\n",
      "MonthYear               0\n",
      "Date of Birth           0\n",
      "Outcome Type            0\n",
      "Outcome Subtype     91594\n",
      "Animal Type             0\n",
      "Sex upon Outcome        0\n",
      "Age upon Outcome        0\n",
      "Breed                   0\n",
      "Color                   0\n",
      "dtype: int64\n"
     ]
    }
   ],
   "source": [
    "# Remove rows with missing values in 'Outcome Type', 'Sex upon Outcome', and 'Age upon Outcome'\n",
    "data = data.dropna(subset=['Outcome Type', 'Sex upon Outcome', 'Age upon Outcome'])\n",
    "\n",
    "# Verify if there are still missing values in the dataset after cleaning\n",
    "missing_summary_after_cleaning = cleaned_data.isnull().sum()\n",
    "print(missing_summary_after_cleaning)"
   ]
  },
  {
   "cell_type": "code",
   "execution_count": 51,
   "metadata": {},
   "outputs": [
    {
     "data": {
      "text/plain": [
       "array(['3 months', '2 years', '1 year', '4 months', '6 days', '7 years',\n",
       "       '2 months', '3 years', '2 days', '3 weeks', '11 years', '9 months',\n",
       "       '4 weeks', '2 weeks', '6 months', '9 years', '10 years', '1 month',\n",
       "       '8 years', '7 months', '6 years', '4 years', '12 years', '5 years',\n",
       "       '1 day', '1 weeks', '5 months', '5 days', '15 years', '10 months',\n",
       "       '4 days', '16 years', '8 months', '13 years', '1 week', '14 years',\n",
       "       '11 months', '3 days', '0 years', '5 weeks', '17 years',\n",
       "       '18 years', '20 years', '22 years', '-2 years', '19 years',\n",
       "       '28 years', '-3 years', '23 years', '25 years', '30 years',\n",
       "       '-1 years', '24 years', '21 years', '-4 years'], dtype=object)"
      ]
     },
     "execution_count": 51,
     "metadata": {},
     "output_type": "execute_result"
    }
   ],
   "source": [
    "unique_age = data['Age upon Outcome'].unique()\n",
    "unique_age\n"
   ]
  },
  {
   "cell_type": "code",
   "execution_count": 52,
   "metadata": {},
   "outputs": [
    {
     "data": {
      "text/plain": [
       "array(['3 months', '2 years', '1 year', '4 months', '6 days', '7 years',\n",
       "       '2 months', '3 years', '2 days', '3 weeks', '11 years', '9 months',\n",
       "       '4 weeks', '2 weeks', '6 months', '9 years', '10 years', '1 month',\n",
       "       '8 years', '7 months', '6 years', '4 years', '12 years', '5 years',\n",
       "       '1 day', '1 weeks', '5 months', '5 days', '15 years', '10 months',\n",
       "       '4 days', '16 years', '8 months', '13 years', '1 week', '14 years',\n",
       "       '11 months', '3 days', '0 years', '5 weeks', '17 years',\n",
       "       '18 years', '20 years', '22 years', '-2 years', '19 years',\n",
       "       '28 years', '-3 years', '23 years', '25 years', '30 years',\n",
       "       '-1 years', '24 years', '21 years', '-4 years'], dtype=object)"
      ]
     },
     "execution_count": 52,
     "metadata": {},
     "output_type": "execute_result"
    }
   ],
   "source": [
    "# Drop rows with negative values in the \"Age upon Outcome\" column\n",
    "data= data[~data['Age upon Outcome'].str.contains('-', na=False)]\n",
    "unique_age"
   ]
  },
  {
   "cell_type": "code",
   "execution_count": 53,
   "metadata": {},
   "outputs": [
    {
     "name": "stdout",
     "output_type": "stream",
     "text": [
      "\n",
      "Number of different outcome types:\n",
      "11\n"
     ]
    }
   ],
   "source": [
    "# Show the number of different outcome types\n",
    "num_unique_outcome_types = data['Outcome Type'].nunique()\n",
    "print(\"\\nNumber of different outcome types:\")\n",
    "print(num_unique_outcome_types)"
   ]
  },
  {
   "cell_type": "code",
   "execution_count": 54,
   "metadata": {},
   "outputs": [
    {
     "name": "stdout",
     "output_type": "stream",
     "text": [
      "\n",
      "Unique values in 'Outcome Type' column:\n",
      "['Adoption' 'Rto-Adopt' 'Euthanasia' 'Transfer' 'Return to Owner' 'Died'\n",
      " 'Disposal' 'Missing' 'Relocate' 'Stolen' 'Lost']\n"
     ]
    }
   ],
   "source": [
    "# Show unique values in 'Outcome Type' column\n",
    "unique_outcome_types = data['Outcome Type'].unique()\n",
    "print(\"\\nUnique values in 'Outcome Type' column:\")\n",
    "print(unique_outcome_types)"
   ]
  },
  {
   "cell_type": "code",
   "execution_count": 55,
   "metadata": {},
   "outputs": [],
   "source": [
    "# Create a new column with 2 outcome types: 'Adopted' or 'Not Adopted'\n",
    "simplified_outcome = []\n",
    "for outcome in data['Outcome Type']:\n",
    "    if outcome in ['Adoption', 'Rto-Adopt', 'Return to Owner']:\n",
    "        simplified_outcome.append('Adopted')\n",
    "    else:\n",
    "        simplified_outcome.append('Not Adopted')\n",
    "\n",
    "data['Simplified Outcome'] = simplified_outcome"
   ]
  },
  {
   "cell_type": "code",
   "execution_count": 56,
   "metadata": {},
   "outputs": [
    {
     "data": {
      "text/html": [
       "<div>\n",
       "<style scoped>\n",
       "    .dataframe tbody tr th:only-of-type {\n",
       "        vertical-align: middle;\n",
       "    }\n",
       "\n",
       "    .dataframe tbody tr th {\n",
       "        vertical-align: top;\n",
       "    }\n",
       "\n",
       "    .dataframe thead th {\n",
       "        text-align: right;\n",
       "    }\n",
       "</style>\n",
       "<table border=\"1\" class=\"dataframe\">\n",
       "  <thead>\n",
       "    <tr style=\"text-align: right;\">\n",
       "      <th></th>\n",
       "      <th>Animal ID</th>\n",
       "      <th>Name</th>\n",
       "      <th>DateTime</th>\n",
       "      <th>MonthYear</th>\n",
       "      <th>Date of Birth</th>\n",
       "      <th>Outcome Type</th>\n",
       "      <th>Outcome Subtype</th>\n",
       "      <th>Animal Type</th>\n",
       "      <th>Sex upon Outcome</th>\n",
       "      <th>Age upon Outcome</th>\n",
       "      <th>Breed</th>\n",
       "      <th>Color</th>\n",
       "      <th>Simplified Outcome</th>\n",
       "    </tr>\n",
       "  </thead>\n",
       "  <tbody>\n",
       "    <tr>\n",
       "      <th>0</th>\n",
       "      <td>A882831</td>\n",
       "      <td>*Hamilton</td>\n",
       "      <td>07/01/2023 06:12:00 PM</td>\n",
       "      <td>Jul 2023</td>\n",
       "      <td>03/25/2023</td>\n",
       "      <td>Adoption</td>\n",
       "      <td>NaN</td>\n",
       "      <td>Cat</td>\n",
       "      <td>Neutered Male</td>\n",
       "      <td>3 months</td>\n",
       "      <td>Domestic Shorthair Mix</td>\n",
       "      <td>Black/White</td>\n",
       "      <td>Adopted</td>\n",
       "    </tr>\n",
       "    <tr>\n",
       "      <th>1</th>\n",
       "      <td>A794011</td>\n",
       "      <td>Chunk</td>\n",
       "      <td>05/08/2019 06:20:00 PM</td>\n",
       "      <td>May 2019</td>\n",
       "      <td>05/02/2017</td>\n",
       "      <td>Rto-Adopt</td>\n",
       "      <td>NaN</td>\n",
       "      <td>Cat</td>\n",
       "      <td>Neutered Male</td>\n",
       "      <td>2 years</td>\n",
       "      <td>Domestic Shorthair Mix</td>\n",
       "      <td>Brown Tabby/White</td>\n",
       "      <td>Adopted</td>\n",
       "    </tr>\n",
       "    <tr>\n",
       "      <th>2</th>\n",
       "      <td>A776359</td>\n",
       "      <td>Gizmo</td>\n",
       "      <td>07/18/2018 04:02:00 PM</td>\n",
       "      <td>Jul 2018</td>\n",
       "      <td>07/12/2017</td>\n",
       "      <td>Adoption</td>\n",
       "      <td>NaN</td>\n",
       "      <td>Dog</td>\n",
       "      <td>Neutered Male</td>\n",
       "      <td>1 year</td>\n",
       "      <td>Chihuahua Shorthair Mix</td>\n",
       "      <td>White/Brown</td>\n",
       "      <td>Adopted</td>\n",
       "    </tr>\n",
       "    <tr>\n",
       "      <th>3</th>\n",
       "      <td>A821648</td>\n",
       "      <td>NaN</td>\n",
       "      <td>08/16/2020 11:38:00 AM</td>\n",
       "      <td>Aug 2020</td>\n",
       "      <td>08/16/2019</td>\n",
       "      <td>Euthanasia</td>\n",
       "      <td>NaN</td>\n",
       "      <td>Other</td>\n",
       "      <td>Unknown</td>\n",
       "      <td>1 year</td>\n",
       "      <td>Raccoon</td>\n",
       "      <td>Gray</td>\n",
       "      <td>Not Adopted</td>\n",
       "    </tr>\n",
       "    <tr>\n",
       "      <th>4</th>\n",
       "      <td>A720371</td>\n",
       "      <td>Moose</td>\n",
       "      <td>02/13/2016 05:59:00 PM</td>\n",
       "      <td>Feb 2016</td>\n",
       "      <td>10/08/2015</td>\n",
       "      <td>Adoption</td>\n",
       "      <td>NaN</td>\n",
       "      <td>Dog</td>\n",
       "      <td>Neutered Male</td>\n",
       "      <td>4 months</td>\n",
       "      <td>Anatol Shepherd/Labrador Retriever</td>\n",
       "      <td>Buff</td>\n",
       "      <td>Adopted</td>\n",
       "    </tr>\n",
       "  </tbody>\n",
       "</table>\n",
       "</div>"
      ],
      "text/plain": [
       "  Animal ID       Name                DateTime MonthYear Date of Birth  \\\n",
       "0   A882831  *Hamilton  07/01/2023 06:12:00 PM  Jul 2023    03/25/2023   \n",
       "1   A794011      Chunk  05/08/2019 06:20:00 PM  May 2019    05/02/2017   \n",
       "2   A776359      Gizmo  07/18/2018 04:02:00 PM  Jul 2018    07/12/2017   \n",
       "3   A821648        NaN  08/16/2020 11:38:00 AM  Aug 2020    08/16/2019   \n",
       "4   A720371      Moose  02/13/2016 05:59:00 PM  Feb 2016    10/08/2015   \n",
       "\n",
       "  Outcome Type Outcome Subtype Animal Type Sex upon Outcome Age upon Outcome  \\\n",
       "0     Adoption             NaN         Cat    Neutered Male         3 months   \n",
       "1    Rto-Adopt             NaN         Cat    Neutered Male          2 years   \n",
       "2     Adoption             NaN         Dog    Neutered Male           1 year   \n",
       "3   Euthanasia             NaN       Other          Unknown           1 year   \n",
       "4     Adoption             NaN         Dog    Neutered Male         4 months   \n",
       "\n",
       "                                Breed              Color Simplified Outcome  \n",
       "0              Domestic Shorthair Mix        Black/White            Adopted  \n",
       "1              Domestic Shorthair Mix  Brown Tabby/White            Adopted  \n",
       "2             Chihuahua Shorthair Mix        White/Brown            Adopted  \n",
       "3                             Raccoon               Gray        Not Adopted  \n",
       "4  Anatol Shepherd/Labrador Retriever               Buff            Adopted  "
      ]
     },
     "execution_count": 56,
     "metadata": {},
     "output_type": "execute_result"
    }
   ],
   "source": [
    "data.head()"
   ]
  },
  {
   "cell_type": "code",
   "execution_count": 57,
   "metadata": {},
   "outputs": [],
   "source": [
    "# Save the cleaned data to a new CSV file\n",
    "data.to_csv('Austin_Animal_Center_Outcomes_Cleaned.csv', index=False)\n"
   ]
  },
  {
   "cell_type": "code",
   "execution_count": 58,
   "metadata": {},
   "outputs": [
    {
     "data": {
      "text/plain": [
       "array(['Cat', 'Dog', 'Other', 'Bird', 'Livestock'], dtype=object)"
      ]
     },
     "execution_count": 58,
     "metadata": {},
     "output_type": "execute_result"
    }
   ],
   "source": [
    "# unique values in Animal Type\n",
    "unique_animal_types = data['Animal Type'].unique()\n",
    "unique_animal_types"
   ]
  },
  {
   "cell_type": "code",
   "execution_count": 59,
   "metadata": {},
   "outputs": [
    {
     "data": {
      "text/plain": [
       "Breed\n",
       "Bat               2267\n",
       "Bat Mix           1754\n",
       "Raccoon            800\n",
       "Raccoon Mix        539\n",
       "Guinea Pig         536\n",
       "                  ... \n",
       "Lop-Mini/Hotot       1\n",
       "Ringtail             1\n",
       "Otter Mix            1\n",
       "Deer Mix             1\n",
       "Frog                 1\n",
       "Name: count, Length: 137, dtype: int64"
      ]
     },
     "execution_count": 59,
     "metadata": {},
     "output_type": "execute_result"
    }
   ],
   "source": [
    "other_breed_counts = data[data['Animal Type'] == 'Other']['Breed'].value_counts()\n",
    "other_breed_counts"
   ]
  },
  {
   "cell_type": "code",
   "execution_count": 60,
   "metadata": {},
   "outputs": [
    {
     "data": {
      "text/plain": [
       "Simplified Outcome\n",
       "Adopted        108384\n",
       "Not Adopted     60917\n",
       "Name: count, dtype: int64"
      ]
     },
     "execution_count": 60,
     "metadata": {},
     "output_type": "execute_result"
    }
   ],
   "source": [
    "#Count total simplified outcome and group by 'Animal Type', 'Sex upon Outcome', and 'Age upon Outcome'\n",
    "simplified_outcome_counts = data['Simplified Outcome'].value_counts()\n",
    "counts_by_animal_type = data.groupby(['Animal Type', 'Simplified Outcome']).size()\n",
    "counts_by_sex = data.groupby(['Sex upon Outcome', 'Simplified Outcome']).size()\n",
    "counts_by_age = data.groupby(['Age upon Outcome', 'Simplified Outcome']).size()\n",
    "\n",
    "simplified_outcome_counts\n"
   ]
  },
  {
   "cell_type": "code",
   "execution_count": 61,
   "metadata": {},
   "outputs": [
    {
     "data": {
      "text/plain": [
       "Animal Type  Simplified Outcome\n",
       "Bird         Adopted                 366\n",
       "             Not Adopted             487\n",
       "Cat          Adopted               37502\n",
       "             Not Adopted           29883\n",
       "Dog          Adopted               69455\n",
       "             Not Adopted           22823\n",
       "Livestock    Adopted                  23\n",
       "             Not Adopted              11\n",
       "Other        Adopted                1038\n",
       "             Not Adopted            7713\n",
       "dtype: int64"
      ]
     },
     "execution_count": 61,
     "metadata": {},
     "output_type": "execute_result"
    }
   ],
   "source": [
    "counts_by_animal_type"
   ]
  },
  {
   "cell_type": "code",
   "execution_count": 62,
   "metadata": {},
   "outputs": [
    {
     "data": {
      "text/plain": [
       "Sex upon Outcome  Simplified Outcome\n",
       "Intact Female     Adopted                5221\n",
       "                  Not Adopted           16105\n",
       "Intact Male       Adopted                6524\n",
       "                  Not Adopted           15257\n",
       "Neutered Male     Adopted               49943\n",
       "                  Not Adopted            9377\n",
       "Spayed Female     Adopted               46165\n",
       "                  Not Adopted            7590\n",
       "Unknown           Adopted                 531\n",
       "                  Not Adopted           12588\n",
       "dtype: int64"
      ]
     },
     "execution_count": 62,
     "metadata": {},
     "output_type": "execute_result"
    }
   ],
   "source": [
    "counts_by_sex"
   ]
  },
  {
   "cell_type": "code",
   "execution_count": 63,
   "metadata": {},
   "outputs": [
    {
     "data": {
      "text/plain": [
       "Age upon Outcome  Simplified Outcome\n",
       "0 years           Adopted                 16\n",
       "                  Not Adopted            251\n",
       "1 day             Adopted                 18\n",
       "                  Not Adopted            474\n",
       "1 month           Adopted               3210\n",
       "                                        ... \n",
       "8 years           Not Adopted            794\n",
       "9 months          Adopted               1228\n",
       "                  Not Adopted            483\n",
       "9 years           Adopted               1252\n",
       "                  Not Adopted            365\n",
       "Length: 95, dtype: int64"
      ]
     },
     "execution_count": 63,
     "metadata": {},
     "output_type": "execute_result"
    }
   ],
   "source": [
    "counts_by_age"
   ]
  },
  {
   "cell_type": "code",
   "execution_count": 68,
   "metadata": {},
   "outputs": [
    {
     "data": {
      "text/html": [
       "<div>\n",
       "<style scoped>\n",
       "    .dataframe tbody tr th:only-of-type {\n",
       "        vertical-align: middle;\n",
       "    }\n",
       "\n",
       "    .dataframe tbody tr th {\n",
       "        vertical-align: top;\n",
       "    }\n",
       "\n",
       "    .dataframe thead th {\n",
       "        text-align: right;\n",
       "    }\n",
       "</style>\n",
       "<table border=\"1\" class=\"dataframe\">\n",
       "  <thead>\n",
       "    <tr style=\"text-align: right;\">\n",
       "      <th></th>\n",
       "      <th>Animal ID</th>\n",
       "      <th>Name</th>\n",
       "      <th>DateTime</th>\n",
       "      <th>MonthYear</th>\n",
       "      <th>Date of Birth</th>\n",
       "      <th>Outcome Type</th>\n",
       "      <th>Outcome Subtype</th>\n",
       "      <th>Animal Type</th>\n",
       "      <th>Sex upon Outcome</th>\n",
       "      <th>Age upon Outcome</th>\n",
       "      <th>Breed</th>\n",
       "      <th>Color</th>\n",
       "      <th>Simplified Outcome</th>\n",
       "      <th>Age in Days</th>\n",
       "    </tr>\n",
       "  </thead>\n",
       "  <tbody>\n",
       "    <tr>\n",
       "      <th>0</th>\n",
       "      <td>A882831</td>\n",
       "      <td>*Hamilton</td>\n",
       "      <td>07/01/2023 06:12:00 PM</td>\n",
       "      <td>Jul 2023</td>\n",
       "      <td>03/25/2023</td>\n",
       "      <td>Adoption</td>\n",
       "      <td>NaN</td>\n",
       "      <td>Cat</td>\n",
       "      <td>Neutered Male</td>\n",
       "      <td>3 months</td>\n",
       "      <td>Domestic Shorthair Mix</td>\n",
       "      <td>Black/White</td>\n",
       "      <td>Adopted</td>\n",
       "      <td>90</td>\n",
       "    </tr>\n",
       "    <tr>\n",
       "      <th>1</th>\n",
       "      <td>A794011</td>\n",
       "      <td>Chunk</td>\n",
       "      <td>05/08/2019 06:20:00 PM</td>\n",
       "      <td>May 2019</td>\n",
       "      <td>05/02/2017</td>\n",
       "      <td>Rto-Adopt</td>\n",
       "      <td>NaN</td>\n",
       "      <td>Cat</td>\n",
       "      <td>Neutered Male</td>\n",
       "      <td>2 years</td>\n",
       "      <td>Domestic Shorthair Mix</td>\n",
       "      <td>Brown Tabby/White</td>\n",
       "      <td>Adopted</td>\n",
       "      <td>730</td>\n",
       "    </tr>\n",
       "    <tr>\n",
       "      <th>2</th>\n",
       "      <td>A776359</td>\n",
       "      <td>Gizmo</td>\n",
       "      <td>07/18/2018 04:02:00 PM</td>\n",
       "      <td>Jul 2018</td>\n",
       "      <td>07/12/2017</td>\n",
       "      <td>Adoption</td>\n",
       "      <td>NaN</td>\n",
       "      <td>Dog</td>\n",
       "      <td>Neutered Male</td>\n",
       "      <td>1 year</td>\n",
       "      <td>Chihuahua Shorthair Mix</td>\n",
       "      <td>White/Brown</td>\n",
       "      <td>Adopted</td>\n",
       "      <td>365</td>\n",
       "    </tr>\n",
       "    <tr>\n",
       "      <th>3</th>\n",
       "      <td>A821648</td>\n",
       "      <td>NaN</td>\n",
       "      <td>08/16/2020 11:38:00 AM</td>\n",
       "      <td>Aug 2020</td>\n",
       "      <td>08/16/2019</td>\n",
       "      <td>Euthanasia</td>\n",
       "      <td>NaN</td>\n",
       "      <td>Other</td>\n",
       "      <td>Unknown</td>\n",
       "      <td>1 year</td>\n",
       "      <td>Raccoon</td>\n",
       "      <td>Gray</td>\n",
       "      <td>Not Adopted</td>\n",
       "      <td>365</td>\n",
       "    </tr>\n",
       "    <tr>\n",
       "      <th>4</th>\n",
       "      <td>A720371</td>\n",
       "      <td>Moose</td>\n",
       "      <td>02/13/2016 05:59:00 PM</td>\n",
       "      <td>Feb 2016</td>\n",
       "      <td>10/08/2015</td>\n",
       "      <td>Adoption</td>\n",
       "      <td>NaN</td>\n",
       "      <td>Dog</td>\n",
       "      <td>Neutered Male</td>\n",
       "      <td>4 months</td>\n",
       "      <td>Anatol Shepherd/Labrador Retriever</td>\n",
       "      <td>Buff</td>\n",
       "      <td>Adopted</td>\n",
       "      <td>120</td>\n",
       "    </tr>\n",
       "  </tbody>\n",
       "</table>\n",
       "</div>"
      ],
      "text/plain": [
       "  Animal ID       Name                DateTime MonthYear Date of Birth  \\\n",
       "0   A882831  *Hamilton  07/01/2023 06:12:00 PM  Jul 2023    03/25/2023   \n",
       "1   A794011      Chunk  05/08/2019 06:20:00 PM  May 2019    05/02/2017   \n",
       "2   A776359      Gizmo  07/18/2018 04:02:00 PM  Jul 2018    07/12/2017   \n",
       "3   A821648        NaN  08/16/2020 11:38:00 AM  Aug 2020    08/16/2019   \n",
       "4   A720371      Moose  02/13/2016 05:59:00 PM  Feb 2016    10/08/2015   \n",
       "\n",
       "  Outcome Type Outcome Subtype Animal Type Sex upon Outcome Age upon Outcome  \\\n",
       "0     Adoption             NaN         Cat    Neutered Male         3 months   \n",
       "1    Rto-Adopt             NaN         Cat    Neutered Male          2 years   \n",
       "2     Adoption             NaN         Dog    Neutered Male           1 year   \n",
       "3   Euthanasia             NaN       Other          Unknown           1 year   \n",
       "4     Adoption             NaN         Dog    Neutered Male         4 months   \n",
       "\n",
       "                                Breed              Color Simplified Outcome  \\\n",
       "0              Domestic Shorthair Mix        Black/White            Adopted   \n",
       "1              Domestic Shorthair Mix  Brown Tabby/White            Adopted   \n",
       "2             Chihuahua Shorthair Mix        White/Brown            Adopted   \n",
       "3                             Raccoon               Gray        Not Adopted   \n",
       "4  Anatol Shepherd/Labrador Retriever               Buff            Adopted   \n",
       "\n",
       "   Age in Days  \n",
       "0           90  \n",
       "1          730  \n",
       "2          365  \n",
       "3          365  \n",
       "4          120  "
      ]
     },
     "execution_count": 68,
     "metadata": {},
     "output_type": "execute_result"
    }
   ],
   "source": [
    "# Define a mapping of age units to days\n",
    "age_mapping = {\n",
    "    'year': 365,\n",
    "    'years': 365,\n",
    "    'month': 30,\n",
    "    'months': 30,\n",
    "    'week': 7,\n",
    "    'weeks': 7,\n",
    "    'day': 1,\n",
    "    'days': 1\n",
    "}\n",
    "# Function to convert age to days\n",
    "def convert_age_to_days(age_str):\n",
    "    if pd.isnull(age_str):\n",
    "        return np.nan\n",
    "    parts = age_str.split()\n",
    "    if len(parts) != 2:\n",
    "        return np.nan\n",
    "    number, unit = int(parts[0]), parts[1].lower()\n",
    "    return number * age_mapping.get(unit, np.nan)\n",
    "# Apply the function to the \"Age upon Outcome\" column\n",
    "data['Age in Days'] = data['Age upon Outcome'].apply(convert_age_to_days)\n",
    "data.head()"
   ]
  },
  {
   "cell_type": "code",
   "execution_count": 69,
   "metadata": {},
   "outputs": [],
   "source": [
    "# Save the cleaned data to a new CSV file again\n",
    "data.to_csv('Austin_Animal_Center_Outcomes_Cleaned.csv', index=False)\n"
   ]
  }
 ],
 "metadata": {
  "kernelspec": {
   "display_name": "base",
   "language": "python",
   "name": "python3"
  },
  "language_info": {
   "codemirror_mode": {
    "name": "ipython",
    "version": 3
   },
   "file_extension": ".py",
   "mimetype": "text/x-python",
   "name": "python",
   "nbconvert_exporter": "python",
   "pygments_lexer": "ipython3",
   "version": "3.12.3"
  }
 },
 "nbformat": 4,
 "nbformat_minor": 2
}
